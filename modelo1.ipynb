{
 "cells": [
  {
   "cell_type": "code",
   "execution_count": 58,
   "metadata": {},
   "outputs": [],
   "source": [
    "'''\n",
    "Importamos las librerias necesarias para procesar los datos.\n",
    "'''\n",
    "import numpy as np\n",
    "import pandas as pd\n",
    "import xarray\n",
    "import netCDF4\n",
    "import wrf \n",
    "import sys\n",
    "#np.set_printoptions(threshold=sys.maxsize) # Para que las matrices se impriman completas y no resumidas"
   ]
  },
  {
   "cell_type": "code",
   "execution_count": 155,
   "metadata": {},
   "outputs": [],
   "source": [
    "'''\n",
    "Parametros\n",
    "'''\n",
    "hora1 = \"06:00:00\"\n",
    "hora2 = \"18:00:00\"\n",
    "dia = \"2019-01-01\"\n",
    "hora = hora1\n",
    "dataDIR = \"../Datos/MatricesX/wrfout_A_d01_{}_{}\".format(dia,hora)"
   ]
  },
  {
   "cell_type": "code",
   "execution_count": 156,
   "metadata": {},
   "outputs": [],
   "source": [
    "'''\n",
    "Abrir el dataset como una matriz XARRAY y mostrar información de sus parametros\n",
    "'''\n",
    "DS = xarray.open_dataset(dataDIR)\n"
   ]
  },
  {
   "cell_type": "code",
   "execution_count": 159,
   "metadata": {},
   "outputs": [
    {
     "name": "stdout",
     "output_type": "stream",
     "text": [
      "[[3018.7932 3037.6719 3042.5974 ... 2209.246  2208.648  2208.0723]\n",
      " [3145.1294 3158.653  3145.7205 ... 2210.4272 2209.734  2208.5315]\n",
      " [3272.2087 3275.4888 3229.9517 ... 2211.1658 2210.2986 2209.0137]\n",
      " ...\n",
      " [5955.592  6095.3867 6058.616  ... 2331.8062 2332.2239 2332.4749]\n",
      " [5989.1167 6297.7227 6263.0713 ... 2332.289  2332.073  2332.365 ]\n",
      " [5929.934  6319.695  6263.473  ... 2332.737  2332.562  2332.6804]]\n"
     ]
    }
   ],
   "source": [
    "PH_numpy = DS.PH.sel(Time = 6, bottom_top_stag = 10 ).values #shape (269, 269)\n",
    "PHB_numpy = DS.PHB.sel(Time = 6, bottom_top_stag = 10 ).values #shape (269, 269)\n",
    "z = (PH_numpy + PHB_numpy) / 9.81 # shape (269, 269)\n",
    "print z"
   ]
  },
  {
   "cell_type": "code",
   "execution_count": 78,
   "metadata": {},
   "outputs": [
    {
     "data": {
      "text/plain": [
       "'\\nMostrar informacion de una variable especifica del dataset \\n(se lee el dataset como NETCDF y la info de la variable se muestra como una matriz xarray).\\n'"
      ]
     },
     "execution_count": 78,
     "metadata": {},
     "output_type": "execute_result"
    }
   ],
   "source": [
    "'''\n",
    "Mostrar informacion de una variable especifica del dataset \n",
    "(se lee el dataset como NETCDF y la info de la variable se muestra como una matriz xarray).\n",
    "'''\n",
    "#wrf.getvar(ds, 'z', timeidx=wrf.ALL_TIMES, msl=False) # si no se indica timeidx, selecciona el tiempo 0\n",
    "#wrf.getvar(ds, 'PHB', timeidx=wrf.ALL_TIMES)\n",
    "#print wrf.getvar(ds, 'z', timeidx=wrf.ALL_TIMES, msl=False, units='km').shape"
   ]
  },
  {
   "cell_type": "code",
   "execution_count": null,
   "metadata": {},
   "outputs": [],
   "source": [
    "'''\n",
    "Leer el atributo \"Description\" de la variable indicada del dataset.\n",
    "'''\n",
    "print wrf.getvar(ds, 'PH', timeidx=wrf.ALL_TIMES).description\n",
    "\n",
    "'''\n",
    "El sgte. codigo imprime las descripciones de todas las variables: \n",
    "\n",
    "a = ds.variables.keys()\n",
    "for x in a:\n",
    "    print x, wrf.getvar(ds, x, timeidx=wrf.ALL_TIMES).description\n",
    "'''\n",
    "print"
   ]
  },
  {
   "cell_type": "code",
   "execution_count": null,
   "metadata": {
    "scrolled": false
   },
   "outputs": [],
   "source": [
    "'''\n",
    "Seleccionar un subset de datos de una variable especifica, indicando las dimensiones a seleccionar.\n",
    "Dimensiones posibles: Time, bottom_top, south_north, west_east, \n",
    "                      south_north_stag, west_east_stag, soil_layers_stag, bottom_top_stag\n",
    "'''\n",
    "# Parametros (se obtienen los datos de la variable en el tiempo t y la altura h)\n",
    "t = 13 # que hora es?\n",
    "h = 14 # que presion es?\n",
    "# Seleccion y conversion a matriz numpy\n",
    "PH_sub = DS.PH.sel(Time = t, bottom_top_stag = h )\n",
    "PH_numpy = PH_sub.values\n",
    "print PH_numpy.shape\n",
    "PHB_sub = DS.PHB.sel(Time = t, bottom_top_stag = h )\n",
    "PHB_numpy = PHB_sub.values\n",
    "print PHB_numpy.shape\n",
    "\n",
    "z0 = (PH_numpy + PHB_numpy) / 9.81\n",
    "\n",
    "t = 14\n",
    "PH_sub = DS.PH.sel(Time = t, bottom_top_stag = h )\n",
    "PH_numpy = PH_sub.values\n",
    "PHB_sub = DS.PHB.sel(Time = t, bottom_top_stag = h )\n",
    "PHB_numpy = PHB_sub.values\n",
    "\n",
    "z1 = (PH_numpy + PHB_numpy) / 9.81\n",
    "\n",
    "print z0.shape\n",
    "print z1.shape\n",
    "z0_ex = np.expand_dims(z0, axis = 0)\n",
    "z1_ex = np.expand_dims(z1, axis = 0)\n",
    "print z0_ex.shape\n",
    "print z1_ex.shape\n",
    "z0_ex = np.concatenate((z0_ex, z1_ex), axis=0)\n",
    "print(z0_ex.shape)#\n",
    "# Guardar en disco la matriz numpy\n",
    "#np.save('PH_0_0.npy',da_numpy)"
   ]
  },
  {
   "cell_type": "code",
   "execution_count": null,
   "metadata": {},
   "outputs": [],
   "source": [
    "'''\n",
    "Seleccionar un subset de datos de una variable especifica, indicando las dimensiones a seleccionar.\n",
    "Dimensiones posibles: Time, bottom_top, south_north, west_east, \n",
    "                      south_north_stag, west_east_stag, soil_layers_stag, bottom_top_stag\n",
    "'''\n",
    "for h in range (0,34): #Altura con la que se va a crear la matriz\n",
    "    # Inicializacion con el tiempo 0\n",
    "    PH_sub = DS.PH.sel(Time = 0, bottom_top_stag = h )\n",
    "    PH_numpy = PH_sub.values\n",
    "    print PH_numpy.shape\n",
    "    PHB_sub = DS.PHB.sel(Time = 0, bottom_top_stag = h )\n",
    "    PHB_numpy = PHB_sub.values\n",
    "    print PHB_numpy.shape\n",
    "    z = (PH_numpy + PHB_numpy) / 9.81\n",
    "    z_ex = np.expand_dims(z, axis = 0)\n",
    "    print z_ex.shape\n",
    "\n",
    "    #Completo con el resto de los tiempos\n",
    "    for t in range(1, 34):\n",
    "        PH_sub = DS.PH.sel(Time = t, bottom_top_stag = h )\n",
    "        PH_numpy = PH_sub.values\n",
    "        #print PH_numpy.shape\n",
    "        PHB_sub = DS.PHB.sel(Time = t, bottom_top_stag = h )\n",
    "        PHB_numpy = PHB_sub.values\n",
    "        #print PHB_numpy.shape\n",
    "        zaux = (PH_numpy + PHB_numpy) / 9.81\n",
    "        zaux_ex = np.expand_dims(zaux, axis = 0)\n",
    "        z_ex = np.concatenate((z_ex, zaux_ex), axis=0)\n",
    "    print(z_ex.shape)#\n",
    "    print z_ex[0]\n",
    "    #Guardar en disco la matriz numpy\n",
    "    np.save('z_altura{}_prueba.npy'.format(h),z_ex)"
   ]
  },
  {
   "cell_type": "code",
   "execution_count": null,
   "metadata": {},
   "outputs": [],
   "source": [
    "'''\n",
    "Listar los atributos de una variable\n",
    "'''\n",
    "ds.variables['PH'].__dict__"
   ]
  },
  {
   "cell_type": "code",
   "execution_count": null,
   "metadata": {},
   "outputs": [],
   "source": [
    "'''\n",
    "Listar las dimensiones de una variable\n",
    "'''\n",
    "ds.variables['PHB'].dimensions"
   ]
  },
  {
   "cell_type": "code",
   "execution_count": null,
   "metadata": {},
   "outputs": [],
   "source": [
    "'''\n",
    "Ver el arreglo con los valores\n",
    "'''\n",
    "ds.variables['PHB'][:]"
   ]
  },
  {
   "cell_type": "markdown",
   "metadata": {},
   "source": [
    "#### 3.2 interplevel\n",
    "\n",
    "Esta función interpola de manera simple y rápida a una altura o nivel de presión específico. Usa  la interpolación lineal, para interpolar con más opciones se puede usar la función ** vinterp **\n",
    "\n",
    "*Ejemplo:*"
   ]
  },
  {
   "cell_type": "code",
   "execution_count": null,
   "metadata": {},
   "outputs": [],
   "source": [
    "# Se obtiene la altura en km, al desactivar la opción msl (Median Sea Level) se calcula AGL (Above Ground Level)\n",
    "#z = wrf.getvar(ds, 'z', timeidx=wrf.ALL_TIMES, msl=False, units='km')\n",
    "#print z.shape\n",
    "# Interpolación de la perturbacion geopotencial a 10 km sobre la superficie\n",
    "#PH = wrf.getvar(ds, 'PH', timeidx=wrf.ALL_TIMES)\n",
    "#print PH.shape\n",
    "#PH_10 = wrf.interplevel(PH,z,10)\n",
    "\n",
    "print "
   ]
  }
 ],
 "metadata": {
  "kernelspec": {
   "display_name": "Python 2",
   "language": "python",
   "name": "python2"
  },
  "language_info": {
   "codemirror_mode": {
    "name": "ipython",
    "version": 2
   },
   "file_extension": ".py",
   "mimetype": "text/x-python",
   "name": "python",
   "nbconvert_exporter": "python",
   "pygments_lexer": "ipython2",
   "version": "2.7.15"
  }
 },
 "nbformat": 4,
 "nbformat_minor": 2
}
